{
 "cells": [
  {
   "cell_type": "code",
   "execution_count": 1,
   "id": "8872fee1-cc52-4d92-9f5f-2f1fecfd8c9c",
   "metadata": {},
   "outputs": [],
   "source": [
    "#!/usr/bin/python3\n",
    "import requests\n",
    "\n",
    "def get_search_result_titles (target):\n",
    "    wiki_url = \"https://ja.wikipedia.org/w/api.php\" # Japanese Wikipedia\n",
    "    # Please change URL if you want to search English wikipedia\n",
    "    params = {\n",
    "        \"action\": \"query\",\n",
    "        \"format\": \"json\",\n",
    "        \"list\": \"search\",\n",
    "        \"srsearch\": \"\\\"\" +  target + \"\\\"\" ,\n",
    "        \"srwhat\" : \"text\",\n",
    "        \"continue\": \"||\",\n",
    "        \"srlimit\": \"10\"\n",
    "    }\n",
    "\n",
    "    titles, pageids = [], []\n",
    "    \n",
    "    while(True):\n",
    "        print(\"trying...\")\n",
    "        res = requests.get(url=wiki_url,params=params).json()\n",
    "        #page_id = list(res['query']['pages'].keys())[0]\n",
    "        titles += [v['title'] for v in res['query']['search']]\n",
    "        pageids += [v['pageid'] for v in res['query']['search']]\n",
    "        print('titles:', titles)\n",
    "        break\n",
    "        \"\"\"\n",
    "        try:\n",
    "            params.update(res['continue'])\n",
    "        except KeyError:\n",
    "            break\n",
    "        \"\"\"\n",
    "    return titles, pageids\n"
   ]
  },
  {
   "cell_type": "code",
   "execution_count": 2,
   "id": "a9f02d15-a44f-4e59-82d0-3b186198309d",
   "metadata": {},
   "outputs": [
    {
     "name": "stdout",
     "output_type": "stream",
     "text": [
      "trying...\n",
      "titles: ['アルベルト・アインシュタイン', 'ボース＝アインシュタイン凝縮', '光子', 'アインシュタインの縮約記法', '一般相対性理論', '光電効果', 'アインシュタイン＝ポドルスキー＝ローゼンのパラドックス', '重力レンズ', 'プランク定数', '質量とエネルギーの等価性']\n"
     ]
    },
    {
     "data": {
      "text/plain": [
       "(['アルベルト・アインシュタイン',\n",
       "  'ボース＝アインシュタイン凝縮',\n",
       "  '光子',\n",
       "  'アインシュタインの縮約記法',\n",
       "  '一般相対性理論',\n",
       "  '光電効果',\n",
       "  'アインシュタイン＝ポドルスキー＝ローゼンのパラドックス',\n",
       "  '重力レンズ',\n",
       "  'プランク定数',\n",
       "  '質量とエネルギーの等価性'],\n",
       " [4008, 33580, 5085, 603309, 7423, 6673, 56709, 37018, 6675, 417911])"
      ]
     },
     "execution_count": 2,
     "metadata": {},
     "output_type": "execute_result"
    }
   ],
   "source": [
    "get_search_result_titles(\"Einstein\")"
   ]
  }
 ],
 "metadata": {
  "kernelspec": {
   "display_name": "Python 3 (ipykernel)",
   "language": "python",
   "name": "python3"
  },
  "language_info": {
   "codemirror_mode": {
    "name": "ipython",
    "version": 3
   },
   "file_extension": ".py",
   "mimetype": "text/x-python",
   "name": "python",
   "nbconvert_exporter": "python",
   "pygments_lexer": "ipython3",
   "version": "3.11.8"
  }
 },
 "nbformat": 4,
 "nbformat_minor": 5
}
